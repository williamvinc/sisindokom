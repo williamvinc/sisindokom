{
 "cells": [
  {
   "cell_type": "code",
   "id": "initial_id",
   "metadata": {
    "collapsed": true,
    "ExecuteTime": {
     "end_time": "2024-12-05T10:40:01.822117Z",
     "start_time": "2024-12-05T10:39:48.559819Z"
    }
   },
   "source": [
    "import re\n",
    "import pandas as pd\n",
    "\n",
    "def extract_log_data(line):\n",
    "    log_data = {\n",
    "        \"log_timestamp\": None,\n",
    "        \"device_name\": None,\n",
    "        \"component\": None,\n",
    "        \"service\": None,\n",
    "        \"severity_code\": None,\n",
    "        \"event_type\": None\n",
    "    }\n",
    "\n",
    "    timestamp_regex = r'(\\w{3} \\d{2} \\d{2}:\\d{2}:\\d{2}(\\.\\d+)?(?: \\w{3})?)|(\\d{4}-\\d{2}-\\d{2}T\\d{2}:\\d{2}:\\d{2}\\.\\d+\\+\\d{2}:\\d{2})'\n",
    "    device_regex = r'(\\S+)\\s+(\\S+)\\s+\\d+\\s'\n",
    "    component_regex = r'RP/\\d+/RP\\d+/CPU\\d+'\n",
    "    service_regex = r':(\\w+)\\['\n",
    "    severity_event_regex = r'%(\\w+)-(\\w+)-(\\d+)-(\\w+)'\n",
    "\n",
    "    timestamp_match = re.search(timestamp_regex, line)\n",
    "    device_match = re.search(device_regex, line)\n",
    "    component_match = re.search(component_regex, line)\n",
    "    service_match = re.search(service_regex, line)\n",
    "    severity_event_match = re.search(severity_event_regex, line)\n",
    "\n",
    "    log_data[\"log_timestamp\"] = timestamp_match.group(0) if timestamp_match else None\n",
    "    log_data[\"device_name\"] = device_match.group(2) if device_match else None\n",
    "    log_data[\"component\"] = component_match.group(0) if component_match else None\n",
    "    log_data[\"service\"] = service_match.group(1) if service_match else None\n",
    "\n",
    "    if severity_event_match:\n",
    "        log_data[\"severity_code\"] = severity_event_match.group(3)\n",
    "        log_data[\"event_type\"] = severity_event_match.group(4)\n",
    "\n",
    "    return log_data\n",
    "\n",
    "file_path = 'data/telkomdb_output_july.txt'\n",
    "\n",
    "log_entries = []\n",
    "with open(file_path, 'r') as file:\n",
    "    for line in file:\n",
    "        extracted_data = extract_log_data(line.strip())\n",
    "        log_entries.append(extracted_data)\n",
    "\n",
    "df = pd.DataFrame(log_entries)\n",
    "\n",
    "print(df)\n",
    "\n",
    "output_csv_path = 'processed_logs.csv'\n",
    "df.to_csv(output_csv_path, index=False)\n"
   ],
   "outputs": [
    {
     "name": "stdout",
     "output_type": "stream",
     "text": [
      "           log_timestamp        device_name      component   service  \\\n",
      "0        Jul 31 23:59:59         61.5.14.56  RP/0/RP0/CPU0      exec   \n",
      "1        Jul 31 23:59:58         61.5.13.10  RP/0/RP1/CPU0      ospf   \n",
      "2        Jul 31 23:59:58         61.5.13.10  RP/0/RP1/CPU0  mpls_ldp   \n",
      "3        Jul 31 23:59:58         61.5.13.10  RP/0/RP1/CPU0       pim   \n",
      "4        Jul 31 23:59:58         61.5.13.10  RP/0/RP1/CPU0       pim   \n",
      "...                  ...                ...            ...       ...   \n",
      "1115517             None                Jul           None      None   \n",
      "1115518             None  RP/0/RP0/CPU0:Jul  RP/0/RP0/CPU0      None   \n",
      "1115519             None         61.5.14.56  RP/0/RP0/CPU0       pim   \n",
      "1115520             None  RP/0/RP1/CPU0:Jul  RP/0/RP1/CPU0      None   \n",
      "1115521             None  RP/0/RP1/CPU0:Jul  RP/0/RP1/CPU0      None   \n",
      "\n",
      "        severity_code          event_type  \n",
      "0                   6               CLOSE  \n",
      "1                   5              ADJCHG  \n",
      "2                   5  SESSION_PROTECTION  \n",
      "3                   5              NBRCHG  \n",
      "4                   5              INTCHG  \n",
      "...               ...                 ...  \n",
      "1115517          None                None  \n",
      "1115518             6      AUTHEN_SUCCESS  \n",
      "1115519             5              NBRCHG  \n",
      "1115520             4        INFO_FAILURE  \n",
      "1115521             4        INFO_FAILURE  \n",
      "\n",
      "[1115522 rows x 6 columns]\n"
     ]
    }
   ],
   "execution_count": 15
  },
  {
   "metadata": {
    "ExecuteTime": {
     "end_time": "2024-12-05T10:55:44.809127Z",
     "start_time": "2024-12-05T10:55:44.782194Z"
    }
   },
   "cell_type": "code",
   "source": "df.shape",
   "id": "7cba96eebadbf6c8",
   "outputs": [
    {
     "data": {
      "text/plain": [
       "(1115522, 6)"
      ]
     },
     "execution_count": 16,
     "metadata": {},
     "output_type": "execute_result"
    }
   ],
   "execution_count": 16
  },
  {
   "metadata": {},
   "cell_type": "code",
   "outputs": [],
   "execution_count": null,
   "source": "",
   "id": "9cf4e0cf595b8f28"
  },
  {
   "metadata": {},
   "cell_type": "markdown",
   "source": "#",
   "id": "af7bd55d7caf99ba"
  }
 ],
 "metadata": {
  "kernelspec": {
   "display_name": "Python 3",
   "language": "python",
   "name": "python3"
  },
  "language_info": {
   "codemirror_mode": {
    "name": "ipython",
    "version": 2
   },
   "file_extension": ".py",
   "mimetype": "text/x-python",
   "name": "python",
   "nbconvert_exporter": "python",
   "pygments_lexer": "ipython2",
   "version": "2.7.6"
  }
 },
 "nbformat": 4,
 "nbformat_minor": 5
}
